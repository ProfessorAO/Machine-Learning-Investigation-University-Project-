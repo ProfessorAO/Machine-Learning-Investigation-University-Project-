{
  "cells": [
    {
      "cell_type": "code",
      "execution_count": 6,
      "metadata": {
        "id": "G4oh54ZXUTfQ"
      },
      "outputs": [],
      "source": [
        "from numpy.core.multiarray import concatenate\n",
        "import pandas as pd\n",
        "import matplotlib.pyplot as plt\n",
        "import numpy as np\n",
        "import matplotlib.pyplot as plt\n",
        "from sklearn.utils import shuffle \n",
        "from sklearn.neural_network import MLPClassifier\n",
        "from sklearn.linear_model import Perceptron, LogisticRegression\n",
        "from sklearn.metrics import accuracy_score, confusion_matrix ,ConfusionMatrixDisplay\n",
        "from sklearn.preprocessing import StandardScaler,MinMaxScaler\n",
        "from sklearn import svm\n",
        "from sklearn.ensemble import RandomForestClassifier\n",
        "from sklearn.model_selection import train_test_split,cross_val_score,StratifiedKFold,KFold\n",
        "from sklearn import datasets\n",
        "from sklearn.pipeline import make_pipeline\n",
        "from sklearn.preprocessing import StandardScaler\n",
        "from sklearn.experimental import enable_iterative_imputer\n",
        "from sklearn.impute import KNNImputer ,SimpleImputer,IterativeImputer\n",
        "from sklearn.datasets import make_classification\n",
        "from sklearn.ensemble import RandomForestClassifier\n",
        "from sklearn.experimental import enable_halving_search_cv  \n",
        "from sklearn.model_selection import HalvingGridSearchCV"
      ]
    },
    {
      "cell_type": "code",
      "execution_count": 18,
      "metadata": {
        "id": "Nzm36rdTR-MB"
      },
      "outputs": [],
      "source": [
        "#function to scale the data\n",
        "def scalealldata(xtrain):\n",
        "  scalar = StandardScaler()\n",
        "  scalar.fit_transform(xtrain)\n",
        "  return xtrain\n",
        "\n",
        "#pass in the model and the training and test to get the cross validations scores\n",
        "def Kfold_checkMetrics(clModel, x,y,):\n",
        "  all_scores_mean = []\n",
        "  all_scores_std = []\n",
        "  all_scores = []\n",
        "  kf = StratifiedKFold(n_splits = 2)\n",
        "  for train,test in kf.split(x,y):\n",
        "    #print(\"TRAIN:\", train, \"TEST:\", test)\n",
        "    X_train, X_test, y_train, y_test = x[train], x[test], y[train], y[test]\n",
        "    #y = np.reshape(len(y),)\n",
        "    clModel.fit(x,y)\n",
        "    clModel.score(X_test, y_test)\n",
        "    scores = cross_val_score(clModel, X_train, y_train, cv=10)\n",
        "    all_scores_mean.append(scores.mean())\n",
        "    all_scores_std.append(scores.std())\n",
        "    all_scores.append(scores)\n",
        "    print(\"%0.2f accuracy with a standard deviation of %0.2f\" % (scores.mean(), scores.std()))  \n",
        "    #print(all_scores)  \n",
        "  return all_scores\n",
        "\n",
        "\n",
        "#DRAW GRPAHS\n",
        "def getMinMaxMean(training,labels,tle):\n",
        "  models = list()\n",
        "  logR = LogisticRegression()\n",
        "  Percep = Perceptron()\n",
        "  supportvms =svm.SVC()\n",
        "  RF =RandomForestClassifier()\n",
        "  MLP =  MLPClassifier()\n",
        "  models = [logR,Percep,supportvms,RF,MLP]\n",
        "  mean = []\n",
        "  max = []\n",
        "  min = []\n",
        "  all= []\n",
        "  for i in models:\n",
        "    mean.append(np.mean(Kfold_checkMetrics(i,training,labels)))\n",
        "    max.append(np.max(Kfold_checkMetrics(i,training,labels)))\n",
        "    min.append(np.min(Kfold_checkMetrics(i,training,labels)))\n",
        "\n",
        "\n",
        "  all.append(min)\n",
        "  all.append(mean)\n",
        "  all.append(max)\n",
        "  df =pd.DataFrame(data =  all,index = ['Min','Mean','Max'], columns = [\"Logistic Regression\",\"Single Perceptron\",\"SVM\",\"Random Forest\",\"Multi-layer Perceptron\"])\n",
        "\n",
        "  print(df)\n",
        "  bar = df.plot.bar(rot=0,figsize = (12,6),title = tle)\n",
        "\n",
        "def getMinMaxMean(Model,Modelname,training,labels,tle):\n",
        "  mean = 0\n",
        "  max = 0\n",
        "  min = 0\n",
        "  val = []\n",
        "  mean = np.mean(Kfold_checkMetrics(Model,training,labels))\n",
        "  max = np.max(Kfold_checkMetrics(Model,training,labels))\n",
        "  min = np.min(Kfold_checkMetrics(Model,training,labels))\n",
        "\n",
        " \n",
        "  \n",
        "  df = pd.DataFrame()\n",
        "  return mean, min, max\n",
        "\n"
      ]
    },
    {
      "cell_type": "code",
      "execution_count": 12,
      "metadata": {
        "id": "0fl2AAGpJrGv"
      },
      "outputs": [],
      "source": [
        "#load in training data\n",
        "training1 = pd.read_csv('training1.csv')\n",
        "training2 = pd.read_csv('training2.csv')\n",
        "\n",
        "#sement training data \n",
        "seg_training1, seg_training2 = training1.iloc[500:1000,:-2].values, training2.iloc[500:1000,:-2].values\n",
        "seg_labes1,seg_labels2 = training1.iloc[500:1000,-2:-1].values, training2.iloc[500:1000,-2:-1].values\n",
        "all_training1, all_training2  =  training1.iloc[:,:-2].values, training2.iloc[:,:-2].values\n",
        "#trainging data for CNN and GIST\n",
        "training1_CNN = training1.iloc[:,:-512].values\n",
        "training1_GIST = training1.iloc[:,-512:-2].values\n",
        "#get confidence values and Labels\n",
        "confidence1, labels1 = training1.iloc[:, -1:].values,training1.iloc[:, -2:-1].values\n",
        "confidence2, labels2 = training2.iloc[:, -1:].values,training2.iloc[:, -2:-1].values\n",
        "#Get trining data scaled\n",
        "training1scaled = scalealldata(training1.iloc[:,:-2])\n",
        "training2scaled = scalealldata(training2.iloc[:,:-2])\n",
        "\n"
      ]
    },
    {
      "cell_type": "code",
      "execution_count": null,
      "metadata": {
        "id": "nnt-AvNfeLVE"
      },
      "outputs": [],
      "source": [
        "\n",
        "iter_imp = IterativeImputer(max_iter=1, random_state=0)\n",
        "iter_imp.fit(train1_data)\n",
        "trans_2 = iter_imp.transform(all_training2)\n"
      ]
    },
    {
      "cell_type": "code",
      "execution_count": 14,
      "metadata": {
        "id": "S66U3umVkUju"
      },
      "outputs": [],
      "source": [
        "\n",
        "\n",
        "\n",
        "\n",
        "imputerknn10 = KNNImputer(n_neighbors=10, weights=\"uniform\",missing_values=np.nan)\n",
        "imputerknn10.fit(training1scaled)\n",
        "knnImputed = imputerknn10.transform(all_training2)"
      ]
    },
    {
      "cell_type": "code",
      "execution_count": 16,
      "metadata": {
        "id": "ll1m2iiskTJY"
      },
      "outputs": [],
      "source": [
        "simp_imp = SimpleImputer(missing_values=np.nan, strategy='mean')\n",
        "simp_imp.fit(training1scaled)\n",
        "univarInputed = simp_imp.transform(all_training2)\n"
      ]
    },
    {
      "cell_type": "code",
      "execution_count": null,
      "metadata": {
        "id": "VGkDaE03ib8j"
      },
      "outputs": [],
      "source": [
        "getMinMaxMean(all_training1,labels1,\"Min,Mean & Max - Unscaled\")"
      ]
    },
    {
      "cell_type": "code",
      "execution_count": null,
      "metadata": {
        "id": "EMBi8pTlicEV"
      },
      "outputs": [],
      "source": [
        "getMinMaxMean(training1scaled,labels1,\"Min,Mean & Max - Scaled\")"
      ]
    },
    {
      "cell_type": "code",
      "execution_count": null,
      "metadata": {
        "id": "6IMsHnpvicJa"
      },
      "outputs": [],
      "source": [
        "getMinMaxMean(RF, \"RandomForest\",training1_CNN,labels1,\"Min,Mean & Max -  CNN Only\")"
      ]
    },
    {
      "cell_type": "code",
      "execution_count": null,
      "metadata": {
        "id": "flcd5yv3icMh"
      },
      "outputs": [],
      "source": [
        "RF = RandomForestClassifier()\n",
        "getMinMaxMean(RF, \"RandomForest\",training1_GIST,labels1,\"Min,Mean & Max -  GIST Only\")"
      ]
    },
    {
      "cell_type": "code",
      "execution_count": null,
      "metadata": {
        "id": "m7IwxO2vxJmg"
      },
      "outputs": [],
      "source": [
        "print(all)\n",
        "\n",
        "x =[i for i in all[0]]\n",
        "y =[i for i in all[1]]\n",
        "x.extend(y)\n",
        "print(x)\n",
        "df =pd.DataFrame(data =  all,index = ['Scaled ','Unscaled'], columns = ['Min','Mean','Max'])\n",
        "\n",
        "print(df)\n",
        "bar = df.plot.bar(rot=0,figsize = (12,6),title = \"Min,Mean & Max of Random Forrest with Different Feautures\")"
      ]
    },
    {
      "cell_type": "markdown",
      "metadata": {
        "id": "-PSP7ooS9YfJ"
      },
      "source": [
        "#Hyper Parameter testing"
      ]
    },
    {
      "cell_type": "code",
      "execution_count": null,
      "metadata": {
        "id": "ZaRjuLSIIfdw"
      },
      "outputs": [],
      "source": [
        "\n",
        "#hyperparam testing\n",
        "param_grid = {'n_estimators': [50, 100, 250,500],\n",
        "              'criterion': ['gini', 'entropy'],\n",
        "              'max_features':['sqrt', 'log2', None],\n",
        "              'class_weight':['balanced', 'balanced_subsample',None]}\n",
        "\n",
        "\n",
        "\n",
        "base_estimator = RandomForestClassifier(random_state=0)\n",
        "\n",
        "sh = HalvingGridSearchCV(base_estimator, param_grid, cv=5,\n",
        "                         factor=2,max_resources='auto').fit(all_training1, labels1)\n",
        "                         \n",
        "\n",
        "frame =pd.DataFrame(sh.cv_results_)\n",
        "\n",
        "#print(frame)\n",
        "#bar = df.plot(frame,rot=0,figsize = (12,6),title = \"Hyperparameter testing\")\n",
        "\n",
        "sh.best_estimator_"
      ]
    },
    {
      "cell_type": "code",
      "execution_count": 265,
      "metadata": {
        "colab": {
          "base_uri": "https://localhost:8080/"
        },
        "id": "kUHMq6_TaVbm",
        "outputId": "dee08ea8-f2e8-4fd0-da40-4935c64b4707"
      },
      "outputs": [
        {
          "data": {
            "text/plain": [
              "RandomForestClassifier(class_weight='balanced', criterion='entropy',\n",
              "                       max_features='sqrt', n_estimators=50, random_state=0)"
            ]
          },
          "execution_count": 265,
          "metadata": {},
          "output_type": "execute_result"
        }
      ],
      "source": []
    },
    {
      "cell_type": "markdown",
      "metadata": {
        "id": "FJIbYEHe9zCZ"
      },
      "source": []
    },
    {
      "cell_type": "markdown",
      "metadata": {
        "id": "7aHuewpHfkCo"
      },
      "source": [
        "#Single Layer Perceptron"
      ]
    },
    {
      "cell_type": "code",
      "execution_count": null,
      "metadata": {
        "id": "jscE3PccLAAP"
      },
      "outputs": [],
      "source": [
        "\n",
        "X_train, X_test, y_train, y_test = train_test_split(seg_training1, seg_labes1, test_size=0.4)\n",
        "clf = Perceptron()\n",
        "\n",
        "\n",
        "clf.fit(X_train,y_train) \n",
        "pred_class = clf.predict(X_test) # Prediction after learning\n",
        "\n",
        "\n",
        "print(f'Process completed in {clf.n_iter_} epochs')\n",
        "print(f'Classification accuracy = {(accuracy_score(y_test, pred_class, normalize=False)/50)}')\n",
        "print(ConfusionMatrixDisplay.from_predictions(y_test, pred_class)) # Confusion matrix\n",
        "\n",
        "\n"
      ]
    },
    {
      "cell_type": "markdown",
      "metadata": {
        "id": "YnDUygRzh-eA"
      },
      "source": [
        "#Multi Layered Perceptron"
      ]
    },
    {
      "cell_type": "code",
      "execution_count": 76,
      "metadata": {
        "colab": {
          "base_uri": "https://localhost:8080/",
          "height": 386
        },
        "id": "073VAgz7hFge",
        "outputId": "9a9b3dd9-d28a-4057-a3a7-f89d214553d6"
      },
      "outputs": [
        {
          "name": "stderr",
          "output_type": "stream",
          "text": [
            "/usr/local/lib/python3.7/dist-packages/sklearn/neural_network/_multilayer_perceptron.py:1109: DataConversionWarning: A column-vector y was passed when a 1d array was expected. Please change the shape of y to (n_samples, ), for example using ravel().\n",
            "  y = column_or_1d(y, warn=True)\n"
          ]
        },
        {
          "name": "stdout",
          "output_type": "stream",
          "text": [
            "Process completed in 42 epochs\n",
            "Classification accuracy = 0.6\n",
            "<sklearn.metrics._plot.confusion_matrix.ConfusionMatrixDisplay object at 0x7fb21d5defd0>\n"
          ]
        },
        {
          "data": {
            "image/png": "[encoded data removed]",
            "text/plain": [
              "<Figure size 432x288 with 2 Axes>"
            ]
          },
          "metadata": {
            "needs_background": "light"
          },
          "output_type": "display_data"
        }
      ],
      "source": [
        "X_train, X_test, y_train, y_test = train_test_split(seg_training1, seg_labes1, test_size=0.4)\n",
        "clf = MLPClassifier()\n",
        "\n",
        "\n",
        "clf.fit(X_train,y_train) \n",
        "pred_class = clf.predict(X_test) # Prediction after learning\n",
        "\n",
        "\n",
        "print(f'Process completed in {clf.n_iter_} epochs')\n",
        "print(f'Classification accuracy = {(accuracy_score(y_test, pred_class, normalize=False)/50)}')\n",
        "print(ConfusionMatrixDisplay.from_predictions(y_test, pred_class)) # Confusion matrix"
      ]
    },
    {
      "cell_type": "markdown",
      "metadata": {
        "id": "Yrqid61yiDQe"
      },
      "source": [
        "#Support Vector Machines"
      ]
    },
    {
      "cell_type": "code",
      "execution_count": 174,
      "metadata": {
        "colab": {
          "base_uri": "https://localhost:8080/",
          "height": 368
        },
        "id": "3wMefPEChv-i",
        "outputId": "4d8ff83e-d78c-44a7-a013-1bc3d156f35e"
      },
      "outputs": [
        {
          "name": "stdout",
          "output_type": "stream",
          "text": [
            "Classification accuracy = 0.725\n",
            "<sklearn.metrics._plot.confusion_matrix.ConfusionMatrixDisplay object at 0x7fb21d8a1950>\n"
          ]
        },
        {
          "name": "stderr",
          "output_type": "stream",
          "text": [
            "/usr/local/lib/python3.7/dist-packages/sklearn/utils/validation.py:993: DataConversionWarning: A column-vector y was passed when a 1d array was expected. Please change the shape of y to (n_samples, ), for example using ravel().\n",
            "  y = column_or_1d(y, warn=True)\n"
          ]
        },
        {
          "data": {
            "image/png": "[encoded data removed]",
            "text/plain": [
              "<Figure size 432x288 with 2 Axes>"
            ]
          },
          "metadata": {
            "needs_background": "light"
          },
          "output_type": "display_data"
        }
      ],
      "source": [
        "#initiate the classifier\n",
        "clf = svm.SVC()\n",
        "#train test split\n",
        "X_train, X_test, y_train, y_test = train_test_split(seg_training1, seg_labes1, test_size=0.4)\n",
        "\n",
        "\n",
        "\n",
        "clf.fit(X_train,y_train) \n",
        "pred_class = clf.predict(X_test) # Prediction after learning\n",
        "\n",
        "\n",
        "#print(f'Process completed in {clf.n_iter_} epochs')\n",
        "print(f'Classification accuracy = {(accuracy_score(y_test, pred_class, normalize=False)/len(pred_class))}')\n",
        "print(ConfusionMatrixDisplay.from_predictions(y_test, pred_class)) # Confusion matrix"
      ]
    },
    {
      "cell_type": "markdown",
      "metadata": {
        "id": "vjgZc4mxj7Wh"
      },
      "source": [
        "#Random Forests"
      ]
    },
    {
      "cell_type": "code",
      "execution_count": 213,
      "metadata": {
        "colab": {
          "base_uri": "https://localhost:8080/",
          "height": 421
        },
        "id": "pwXIs2tOjp8k",
        "outputId": "0c582ec2-23e4-46e0-b0c0-98490afd14e1"
      },
      "outputs": [
        {
          "name": "stderr",
          "output_type": "stream",
          "text": [
            "/usr/local/lib/python3.7/dist-packages/ipykernel_launcher.py:8: DataConversionWarning: A column-vector y was passed when a 1d array was expected. Please change the shape of y to (n_samples,), for example using ravel().\n",
            "  \n"
          ]
        },
        {
          "name": "stdout",
          "output_type": "stream",
          "text": [
            "[1. 0. 0. 0. 1. 1. 1. 1. 0. 0. 0. 0. 1. 1. 0. 1. 0. 0. 0. 0. 0. 1. 0. 1.\n",
            " 0. 1. 1. 1. 1. 0. 0. 0. 1. 0. 1. 0. 1. 0. 0. 1.]\n",
            "[0, 0, 0, 0, 1, 1, 0, 1, 0, 0, 0, 1, 1, 0, 0, 1, 0, 1, 0, 0, 1, 1, 0, 1, 0, 1, 1, 0, 0, 0, 0, 0, 1, 0, 1, 0, 0, 0, 0, 0]\n",
            "Classification accuracy = 0.75\n",
            "<sklearn.metrics._plot.confusion_matrix.ConfusionMatrixDisplay object at 0x7fb21f9c5090>\n"
          ]
        },
        {
          "data": {
            "image/png": "[encoded data removed]",
            "text/plain": [
              "<Figure size 432x288 with 2 Axes>"
            ]
          },
          "metadata": {
            "needs_background": "light"
          },
          "output_type": "display_data"
        }
      ],
      "source": [
        "#initiate classifier\n",
        "rf =  RandomForestClassifier()\n",
        "#train test split\n",
        "X_train, X_test, y_train, y_test = train_test_split(seg_training1, seg_labes1, test_size=0.4)\n",
        "\n",
        "\n",
        "#fit the training data\n",
        "rf.fit(X_train,y_train) \n",
        "pred_class = rf.predict(X_test) # Prediction after learning\n",
        "print(pred_class)\n",
        "y = [int(i[0]) for i in y_test]\n",
        "print(y)\n",
        "#print(f'Process completed in {clf.n_iter_} epochs')\n",
        "print(f'Classification accuracy = {(accuracy_score(y_test, pred_class, normalize=False)/len(pred_class))}')\n",
        "print(ConfusionMatrixDisplay.from_predictions(y_test, pred_class)) # Confusion matrix"
      ]
    },
    {
      "cell_type": "markdown",
      "metadata": {
        "id": "v-DVju4Pk9RE"
      },
      "source": [
        "#Logistic Regression"
      ]
    },
    {
      "cell_type": "code",
      "execution_count": 99,
      "metadata": {
        "colab": {
          "base_uri": "https://localhost:8080/",
          "height": 386
        },
        "id": "8xERIvgzk0wb",
        "outputId": "51d906f4-d213-4a88-a1be-df27d026be34"
      },
      "outputs": [
        {
          "name": "stderr",
          "output_type": "stream",
          "text": [
            "/usr/local/lib/python3.7/dist-packages/sklearn/utils/validation.py:993: DataConversionWarning: A column-vector y was passed when a 1d array was expected. Please change the shape of y to (n_samples, ), for example using ravel().\n",
            "  y = column_or_1d(y, warn=True)\n"
          ]
        },
        {
          "name": "stdout",
          "output_type": "stream",
          "text": [
            "Process completed in [52] epochs\n",
            "Classification accuracy = 0.825\n",
            "<sklearn.metrics._plot.confusion_matrix.ConfusionMatrixDisplay object at 0x7fb22301b050>\n"
          ]
        },
        {
          "data": {
            "image/png": "[encoded data removed]",
            "text/plain": [
              "<Figure size 432x288 with 2 Axes>"
            ]
          },
          "metadata": {
            "needs_background": "light"
          },
          "output_type": "display_data"
        }
      ],
      "source": [
        "#initiate the classifier\n",
        "clf = LogisticRegression(random_state = 0)\n",
        "#train test split\n",
        "X_train, X_test, y_train, y_test = train_test_split(seg_training1, seg_labes1, test_size=0.4)\n",
        "\n",
        "\n",
        "#fit the training data\n",
        "clf.fit(X_train,y_train) \n",
        "#class prediction\n",
        "pred_class = clf.predict(X_test) # Prediction after learning\n",
        "\n",
        "#get the iterations and classification accuracy\n",
        "print(f'Process completed in {clf.n_iter_} epochs')\n",
        "print(f'Classification accuracy = {(accuracy_score(y_test, pred_class, normalize=False)/len(pred_class))}')\n",
        "print(ConfusionMatrixDisplay.from_predictions(y_test, pred_class)) # Confusion matrix\n"
      ]
    },
    {
      "cell_type": "code",
      "execution_count": null,
      "metadata": {
        "id": "WJsgHURK3ReS"
      },
      "outputs": [],
      "source": [
        "#train test split of 40%\n",
        "X_train, X_test, y_train, y_test = train_test_split(t1, l1, test_size=0.4, random_state=0)\n",
        "\n",
        "#cross validate score the classifier\n",
        "clf = svm.SVC(kernel='linear', C=1).fit(X_train, y_train)\n",
        "clf.score(X_test, y_test)\n",
        "scores = cross_val_score(clf, X_train, y_train, cv=10)\n",
        "print(scores)\n",
        "print(\"%0.2f accuracy with a standard deviation of %0.2f\" % (scores.mean(), scores.std()))"
      ]
    },
    {
      "cell_type": "markdown",
      "metadata": {
        "id": "TPYBEpN-AcEz"
      },
      "source": [
        "#Final Classifier (Hyperparmeter tested Random Forest Classifier)"
      ]
    },
    {
      "cell_type": "code",
      "execution_count": 76,
      "metadata": {
        "colab": {
          "base_uri": "https://localhost:8080/"
        },
        "id": "06XsZMf8EVAf",
        "outputId": "5c09e6c3-15e3-4046-b462-ba42998f8a59"
      },
      "outputs": [
        {
          "name": "stderr",
          "output_type": "stream",
          "text": [
            "/usr/local/lib/python3.7/dist-packages/sklearn/base.py:444: UserWarning: X has feature names, but SimpleImputer was fitted without feature names\n",
            "  f\"X has feature names, but {self.__class__.__name__} was fitted without\"\n",
            "/usr/local/lib/python3.7/dist-packages/ipykernel_launcher.py:12: DataConversionWarning: A column-vector y was passed when a 1d array was expected. Please change the shape of y to (n_samples,), for example using ravel().\n",
            "  if sys.path[0] == '':\n"
          ]
        }
      ],
      "source": [
        "import csv\n",
        "#load in test data scale the training data \n",
        "test = pd.read_csv('test.csv')\n",
        "data = scalealldata(all_training1)\n",
        "#impute the missing values for the test data\n",
        "simp_imp = SimpleImputer(missing_values=np.nan, strategy='mean')\n",
        "simp_imp.fit(training1scaled)\n",
        "\n",
        "univarInputed = simp_imp.transform(test)\n",
        "confidence1=confidence1.flatten()\n",
        "#initiate the classifer\n",
        "final_clf = RandomForestClassifier(class_weight='balanced', criterion='entropy',\n",
        "                       max_features='sqrt', n_estimators=50, random_state=0)\n",
        "final_clf.fit(data,labels1,confidence1)\n",
        "#predict the data\n",
        "preds=final_clf.predict(univarInputed)\n",
        "\n",
        "d = pd.DataFrame(preds,columns=[\"predictions\"])\n",
        "d.to_csv('predictions.csv')\n"
      ]
    }
  ],
  "metadata": {
    "colab": {
      "collapsed_sections": [],
      "name": "Untitled1.ipynb",
      "provenance": []
    },
    "kernelspec": {
      "display_name": "Python 3",
      "name": "python3"
    },
    "language_info": {
      "name": "python"
    }
  },
  "nbformat": 4,
  "nbformat_minor": 0
}
